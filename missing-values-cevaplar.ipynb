{
 "cells": [
  {
   "cell_type": "markdown",
   "metadata": {},
   "source": [
    "\n",
    "![Ames Konut veri seti görüntüsü](https://storage.googleapis.com/kaggle-media/learn/images/lTJVG4e.png)\n"
   ]
  },
  {
   "cell_type": "code",
   "execution_count": 1,
   "metadata": {},
   "outputs": [],
   "source": [
    "import pandas as pd\n",
    "from sklearn.model_selection import train_test_split\n",
    "\n",
    "# Veriyi oku\n",
    "X_full = pd.read_csv('data/train.csv', index_col='Id')\n",
    "X_test_full = pd.read_csv('data/test.csv', index_col='Id')\n",
    "\n",
    "# Eksik hedef verisi olan satırları çıkar, hedefi bağımsız değişkenlerden ayır\n",
    "X_full.dropna(axis=0, subset=['SalePrice'], inplace=True)\n",
    "y = X_full.SalePrice\n",
    "X_full.drop(['SalePrice'], axis=1, inplace=True)\n",
    "\n",
    "# İşleri basit tutmak için sadece sayısal bağımsız değişkenleri kullanacağız\n",
    "X = X_full.select_dtypes(exclude=['object'])\n",
    "X_test = X_test_full.select_dtypes(exclude=['object'])\n",
    "\n",
    "# Eğitim verisinden doğrulama setini ayır\n",
    "X_train, X_valid, y_train, y_valid = train_test_split(X, y, train_size=0.8, test_size=0.2,random_state=0)"
   ]
  },
  {
   "cell_type": "markdown",
   "metadata": {},
   "source": [
    "Verilerin ilk beş satırını yazdırmak için bir sonraki kod hücresini kullanın."
   ]
  },
  {
   "cell_type": "code",
   "execution_count": 2,
   "metadata": {
    "execution": {
     "iopub.execute_input": "2023-04-25T11:41:40.530142Z",
     "iopub.status.busy": "2023-04-25T11:41:40.529450Z",
     "iopub.status.idle": "2023-04-25T11:41:40.560845Z",
     "shell.execute_reply": "2023-04-25T11:41:40.559065Z",
     "shell.execute_reply.started": "2023-04-25T11:41:40.530083Z"
    }
   },
   "outputs": [
    {
     "data": {
      "text/html": [
       "<div>\n",
       "<style scoped>\n",
       "    .dataframe tbody tr th:only-of-type {\n",
       "        vertical-align: middle;\n",
       "    }\n",
       "\n",
       "    .dataframe tbody tr th {\n",
       "        vertical-align: top;\n",
       "    }\n",
       "\n",
       "    .dataframe thead th {\n",
       "        text-align: right;\n",
       "    }\n",
       "</style>\n",
       "<table border=\"1\" class=\"dataframe\">\n",
       "  <thead>\n",
       "    <tr style=\"text-align: right;\">\n",
       "      <th></th>\n",
       "      <th>MSSubClass</th>\n",
       "      <th>LotFrontage</th>\n",
       "      <th>LotArea</th>\n",
       "      <th>OverallQual</th>\n",
       "      <th>OverallCond</th>\n",
       "      <th>YearBuilt</th>\n",
       "      <th>YearRemodAdd</th>\n",
       "      <th>MasVnrArea</th>\n",
       "      <th>BsmtFinSF1</th>\n",
       "      <th>BsmtFinSF2</th>\n",
       "      <th>...</th>\n",
       "      <th>GarageArea</th>\n",
       "      <th>WoodDeckSF</th>\n",
       "      <th>OpenPorchSF</th>\n",
       "      <th>EnclosedPorch</th>\n",
       "      <th>3SsnPorch</th>\n",
       "      <th>ScreenPorch</th>\n",
       "      <th>PoolArea</th>\n",
       "      <th>MiscVal</th>\n",
       "      <th>MoSold</th>\n",
       "      <th>YrSold</th>\n",
       "    </tr>\n",
       "    <tr>\n",
       "      <th>Id</th>\n",
       "      <th></th>\n",
       "      <th></th>\n",
       "      <th></th>\n",
       "      <th></th>\n",
       "      <th></th>\n",
       "      <th></th>\n",
       "      <th></th>\n",
       "      <th></th>\n",
       "      <th></th>\n",
       "      <th></th>\n",
       "      <th></th>\n",
       "      <th></th>\n",
       "      <th></th>\n",
       "      <th></th>\n",
       "      <th></th>\n",
       "      <th></th>\n",
       "      <th></th>\n",
       "      <th></th>\n",
       "      <th></th>\n",
       "      <th></th>\n",
       "      <th></th>\n",
       "    </tr>\n",
       "  </thead>\n",
       "  <tbody>\n",
       "    <tr>\n",
       "      <th>619</th>\n",
       "      <td>20</td>\n",
       "      <td>90.0</td>\n",
       "      <td>11694</td>\n",
       "      <td>9</td>\n",
       "      <td>5</td>\n",
       "      <td>2007</td>\n",
       "      <td>2007</td>\n",
       "      <td>452.0</td>\n",
       "      <td>48</td>\n",
       "      <td>0</td>\n",
       "      <td>...</td>\n",
       "      <td>774</td>\n",
       "      <td>0</td>\n",
       "      <td>108</td>\n",
       "      <td>0</td>\n",
       "      <td>0</td>\n",
       "      <td>260</td>\n",
       "      <td>0</td>\n",
       "      <td>0</td>\n",
       "      <td>7</td>\n",
       "      <td>2007</td>\n",
       "    </tr>\n",
       "    <tr>\n",
       "      <th>871</th>\n",
       "      <td>20</td>\n",
       "      <td>60.0</td>\n",
       "      <td>6600</td>\n",
       "      <td>5</td>\n",
       "      <td>5</td>\n",
       "      <td>1962</td>\n",
       "      <td>1962</td>\n",
       "      <td>0.0</td>\n",
       "      <td>0</td>\n",
       "      <td>0</td>\n",
       "      <td>...</td>\n",
       "      <td>308</td>\n",
       "      <td>0</td>\n",
       "      <td>0</td>\n",
       "      <td>0</td>\n",
       "      <td>0</td>\n",
       "      <td>0</td>\n",
       "      <td>0</td>\n",
       "      <td>0</td>\n",
       "      <td>8</td>\n",
       "      <td>2009</td>\n",
       "    </tr>\n",
       "    <tr>\n",
       "      <th>93</th>\n",
       "      <td>30</td>\n",
       "      <td>80.0</td>\n",
       "      <td>13360</td>\n",
       "      <td>5</td>\n",
       "      <td>7</td>\n",
       "      <td>1921</td>\n",
       "      <td>2006</td>\n",
       "      <td>0.0</td>\n",
       "      <td>713</td>\n",
       "      <td>0</td>\n",
       "      <td>...</td>\n",
       "      <td>432</td>\n",
       "      <td>0</td>\n",
       "      <td>0</td>\n",
       "      <td>44</td>\n",
       "      <td>0</td>\n",
       "      <td>0</td>\n",
       "      <td>0</td>\n",
       "      <td>0</td>\n",
       "      <td>8</td>\n",
       "      <td>2009</td>\n",
       "    </tr>\n",
       "    <tr>\n",
       "      <th>818</th>\n",
       "      <td>20</td>\n",
       "      <td>NaN</td>\n",
       "      <td>13265</td>\n",
       "      <td>8</td>\n",
       "      <td>5</td>\n",
       "      <td>2002</td>\n",
       "      <td>2002</td>\n",
       "      <td>148.0</td>\n",
       "      <td>1218</td>\n",
       "      <td>0</td>\n",
       "      <td>...</td>\n",
       "      <td>857</td>\n",
       "      <td>150</td>\n",
       "      <td>59</td>\n",
       "      <td>0</td>\n",
       "      <td>0</td>\n",
       "      <td>0</td>\n",
       "      <td>0</td>\n",
       "      <td>0</td>\n",
       "      <td>7</td>\n",
       "      <td>2008</td>\n",
       "    </tr>\n",
       "    <tr>\n",
       "      <th>303</th>\n",
       "      <td>20</td>\n",
       "      <td>118.0</td>\n",
       "      <td>13704</td>\n",
       "      <td>7</td>\n",
       "      <td>5</td>\n",
       "      <td>2001</td>\n",
       "      <td>2002</td>\n",
       "      <td>150.0</td>\n",
       "      <td>0</td>\n",
       "      <td>0</td>\n",
       "      <td>...</td>\n",
       "      <td>843</td>\n",
       "      <td>468</td>\n",
       "      <td>81</td>\n",
       "      <td>0</td>\n",
       "      <td>0</td>\n",
       "      <td>0</td>\n",
       "      <td>0</td>\n",
       "      <td>0</td>\n",
       "      <td>1</td>\n",
       "      <td>2006</td>\n",
       "    </tr>\n",
       "  </tbody>\n",
       "</table>\n",
       "<p>5 rows × 36 columns</p>\n",
       "</div>"
      ],
      "text/plain": [
       "     MSSubClass  LotFrontage  LotArea  OverallQual  OverallCond  YearBuilt  \\\n",
       "Id                                                                           \n",
       "619          20         90.0    11694            9            5       2007   \n",
       "871          20         60.0     6600            5            5       1962   \n",
       "93           30         80.0    13360            5            7       1921   \n",
       "818          20          NaN    13265            8            5       2002   \n",
       "303          20        118.0    13704            7            5       2001   \n",
       "\n",
       "     YearRemodAdd  MasVnrArea  BsmtFinSF1  BsmtFinSF2  ...  GarageArea  \\\n",
       "Id                                                     ...               \n",
       "619          2007       452.0          48           0  ...         774   \n",
       "871          1962         0.0           0           0  ...         308   \n",
       "93           2006         0.0         713           0  ...         432   \n",
       "818          2002       148.0        1218           0  ...         857   \n",
       "303          2002       150.0           0           0  ...         843   \n",
       "\n",
       "     WoodDeckSF  OpenPorchSF  EnclosedPorch  3SsnPorch  ScreenPorch  PoolArea  \\\n",
       "Id                                                                              \n",
       "619           0          108              0          0          260         0   \n",
       "871           0            0              0          0            0         0   \n",
       "93            0            0             44          0            0         0   \n",
       "818         150           59              0          0            0         0   \n",
       "303         468           81              0          0            0         0   \n",
       "\n",
       "     MiscVal  MoSold  YrSold  \n",
       "Id                            \n",
       "619        0       7    2007  \n",
       "871        0       8    2009  \n",
       "93         0       8    2009  \n",
       "818        0       7    2008  \n",
       "303        0       1    2006  \n",
       "\n",
       "[5 rows x 36 columns]"
      ]
     },
     "execution_count": 2,
     "metadata": {},
     "output_type": "execute_result"
    }
   ],
   "source": [
    "X_train.head()"
   ]
  },
  {
   "cell_type": "markdown",
   "metadata": {},
   "source": [
    "İlk birkaç satırda birkaç eksik değer görebilirsiniz. Bir sonraki adımda, veri setindeki eksik değerler hakkında daha kapsamlı bir anlayış elde edeceksiniz.\n",
    "\n",
    "# Adım 1: Ön araştırma\n"
   ]
  },
  {
   "cell_type": "code",
   "execution_count": 3,
   "metadata": {
    "execution": {
     "iopub.execute_input": "2023-04-25T11:41:40.564407Z",
     "iopub.status.busy": "2023-04-25T11:41:40.563905Z",
     "iopub.status.idle": "2023-04-25T11:41:40.577342Z",
     "shell.execute_reply": "2023-04-25T11:41:40.575711Z",
     "shell.execute_reply.started": "2023-04-25T11:41:40.564346Z"
    }
   },
   "outputs": [
    {
     "name": "stdout",
     "output_type": "stream",
     "text": [
      "(1168, 36)\n",
      "LotFrontage    212\n",
      "MasVnrArea       6\n",
      "GarageYrBlt     58\n",
      "dtype: int64\n"
     ]
    }
   ],
   "source": [
    "# Eğitim verisinin şekli (satır sayısı, sütun sayısı) nı bulun\n",
    "print(X_train.shape)\n",
    "\n",
    "# Eğitim verisindeki her bir sütunda eksik değerlerin sayısını bulun\n",
    "missing_val_count_by_column = (X_train.isnull().sum())\n",
    "print(missing_val_count_by_column[missing_val_count_by_column > 0])"
   ]
  },
  {
   "cell_type": "markdown",
   "metadata": {},
   "source": [
    "### Bölüm A\n",
    "\n",
    "Aşağıdaki soruları cevaplamak için yukarıdaki çıktıyı kullanın."
   ]
  },
  {
   "cell_type": "code",
   "execution_count": 4,
   "metadata": {
    "execution": {
     "iopub.execute_input": "2023-04-25T11:42:15.943384Z",
     "iopub.status.busy": "2023-04-25T11:42:15.942873Z",
     "iopub.status.idle": "2023-04-25T11:42:15.956243Z",
     "shell.execute_reply": "2023-04-25T11:42:15.954554Z",
     "shell.execute_reply.started": "2023-04-25T11:42:15.943345Z"
    }
   },
   "outputs": [],
   "source": [
    "# Aşağıdaki satırı doldurun: Eğitim verisinde kaç satır var?\n",
    "num_rows = 1168\n",
    "\n",
    "# Aşağıdaki satırı doldurun: Eğitim verisinde kaç sütunda eksik değer var?\n",
    "num_cols_with_missing = 3\n",
    "\n",
    "# Aşağıdaki satırı doldurun: Tüm eğitim verisinde kaç eksik giriş var?\n",
    "tot_missing = 212 + 6 + 58"
   ]
  },
  {
   "cell_type": "markdown",
   "metadata": {},
   "source": [
    "### Bölüm B\n",
    "Yukarıdaki cevaplarınızı göz önünde bulundurarak, eksik değerlerle başa çıkmanın en iyi yaklaşımının ne olduğunu düşünüyorsunuz?"
   ]
  },
  {
   "cell_type": "markdown",
   "metadata": {},
   "source": [
    "Eksik değerlerle başa çıkmanın farklı yaklaşımlarını karşılaştırmak için, eğitimdeki aynı `score_dataset()` işlevini kullanacaksınız. Bu işlev, rastgele bir orman modelinden [ortalama mutlak hatayı](https://en.wikipedia.org/wiki/Mean_absolute_error) (MAE) bildirir."
   ]
  },
  {
   "cell_type": "code",
   "execution_count": 5,
   "metadata": {
    "execution": {
     "iopub.execute_input": "2023-04-25T11:43:57.117032Z",
     "iopub.status.busy": "2023-04-25T11:43:57.116053Z",
     "iopub.status.idle": "2023-04-25T11:43:57.124397Z",
     "shell.execute_reply": "2023-04-25T11:43:57.123000Z",
     "shell.execute_reply.started": "2023-04-25T11:43:57.116980Z"
    }
   },
   "outputs": [],
   "source": [
    "from sklearn.ensemble import RandomForestRegressor\n",
    "from sklearn.metrics import mean_absolute_error\n",
    "\n",
    "# Farklı yaklaşımları karşılaştırmak için fonksiyon\n",
    "def score_dataset(X_train, X_valid, y_train, y_valid):\n",
    "    # Rastgele Orman Regresyon modelini oluştur\n",
    "    model = RandomForestRegressor(n_estimators=100, random_state=0)\n",
    "    \n",
    "    # Modeli eğitim verisi ile eğit\n",
    "    model.fit(X_train, y_train)\n",
    "    \n",
    "    # Doğrulama verisi üzerinde tahmin yap\n",
    "    preds = model.predict(X_valid)\n",
    "    \n",
    "    # Tahminlerin Ortalama Mutlak Hata (MAE) değerini döndür\n",
    "    return mean_absolute_error(y_valid, preds)"
   ]
  },
  {
   "cell_type": "markdown",
   "metadata": {},
   "source": [
    "# Adım 2: Eksik değerlere sahip sütunları bırakın\n",
    "\n",
    "Bu adımda, eksik değerlere sahip sütunları kaldırmak için `X_train` ve `X_valid` içindeki verileri önceden işleyeceksiniz. Önceden işlenmiş DataFrames'i sırasıyla `reduced_X_train` ve `reduced_X_valid` olarak ayarlayın."
   ]
  },
  {
   "cell_type": "code",
   "execution_count": 6,
   "metadata": {
    "execution": {
     "iopub.execute_input": "2023-04-25T11:47:04.081522Z",
     "iopub.status.busy": "2023-04-25T11:47:04.080866Z",
     "iopub.status.idle": "2023-04-25T11:47:04.120451Z",
     "shell.execute_reply": "2023-04-25T11:47:04.119409Z",
     "shell.execute_reply.started": "2023-04-25T11:47:04.081467Z"
    }
   },
   "outputs": [],
   "source": [
    "# Aşağıdaki satırı doldurun: eksik değerleri olan sütunların adlarını alın\n",
    "cols_with_missing = [col for col in X_train.columns\n",
    "if X_train[col].isnull().any()]\n",
    "\n",
    "# Aşağıdaki satırları doldurun: eğitim ve doğrulama verilerindeki sütunları bırakın\n",
    "reduced_X_train = X_train.drop(cols_with_missing, axis=1) # eksik verileri buradan atıyoruz.\n",
    "reduced_X_valid = X_valid.drop(cols_with_missing, axis=1)"
   ]
  },
  {
   "cell_type": "markdown",
   "metadata": {},
   "source": [
    "Bu yaklaşım için MAE'yi elde etmek amacıyla bir sonraki kod hücresini değişiklik yapmadan çalıştırın."
   ]
  },
  {
   "cell_type": "code",
   "execution_count": 7,
   "metadata": {
    "execution": {
     "iopub.execute_input": "2023-04-25T11:48:28.680154Z",
     "iopub.status.busy": "2023-04-25T11:48:28.678636Z",
     "iopub.status.idle": "2023-04-25T11:48:29.842391Z",
     "shell.execute_reply": "2023-04-25T11:48:29.841014Z",
     "shell.execute_reply.started": "2023-04-25T11:48:28.680100Z"
    }
   },
   "outputs": [
    {
     "name": "stdout",
     "output_type": "stream",
     "text": [
      "MAE (Drop columns with missing values):\n",
      "17837.82570776256\n"
     ]
    }
   ],
   "source": [
    "print(\"MAE (Drop columns with missing values):\")\n",
    "print(score_dataset(reduced_X_train, reduced_X_valid, y_train, y_valid))"
   ]
  },
  {
   "cell_type": "markdown",
   "metadata": {},
   "source": [
    "# Adım 3: Tahmin\n",
    "\n",
    "### Bölüm A\n",
    "\n",
    "Her sütun boyunca ortalama değerle eksik değerleri tahmin etmek için bir sonraki kod hücresini kullanın. Önceden işlenmiş Veri Çerçevelerini `imputed_X_train` ve `imputed_X_valid` olarak ayarlayın. Sütun adlarının `X_train` ve `X_valid` içindekilerle eşleştiğinden emin olun."
   ]
  },
  {
   "cell_type": "code",
   "execution_count": 8,
   "metadata": {},
   "outputs": [],
   "source": [
    "from sklearn.impute import SimpleImputer\n",
    "\n",
    "# Aşağıdaki satırları doldurun: imputation (eksik değerleri doldurma)\n",
    "# SimpleImputer'ı oluşturun\n",
    "my_imputer = SimpleImputer()  \n",
    "# Eğitim verisindeki eksik değerleri doldur ve veriyi dönüştür\n",
    "imputed_X_train = pd.DataFrame(my_imputer.fit_transform(X_train))  \n",
    "# Doğrulama verisindeki eksik değerleri doldur ve veriyi dönüştür\n",
    "imputed_X_valid = pd.DataFrame(my_imputer.transform(X_valid))  \n",
    "\n",
    "# Aşağıdaki satırları doldurun: imputation sütun adlarını kaldırdı; geri koydu\n",
    "# Eğitim verisi için sütun adlarını geri koy\n",
    "imputed_X_train.columns = X_train.columns  \n",
    "# Doğrulama verisi için sütun adlarını geri koy\n",
    "imputed_X_valid.columns = X_valid.columns  "
   ]
  },
  {
   "cell_type": "markdown",
   "metadata": {},
   "source": [
    "Bu yaklaşım için MAE'yi elde etmek amacıyla bir sonraki kod hücresini değişiklik yapmadan çalıştırın."
   ]
  },
  {
   "cell_type": "code",
   "execution_count": 9,
   "metadata": {
    "execution": {
     "iopub.execute_input": "2023-04-25T11:54:04.279646Z",
     "iopub.status.busy": "2023-04-25T11:54:04.278775Z",
     "iopub.status.idle": "2023-04-25T11:54:05.635523Z",
     "shell.execute_reply": "2023-04-25T11:54:05.633781Z",
     "shell.execute_reply.started": "2023-04-25T11:54:04.279592Z"
    }
   },
   "outputs": [
    {
     "name": "stdout",
     "output_type": "stream",
     "text": [
      "MAE (Imputation):\n",
      "18062.894611872147\n"
     ]
    }
   ],
   "source": [
    "print(\"MAE (Imputation):\")\n",
    "print(score_dataset(imputed_X_train, imputed_X_valid, y_train, y_valid))"
   ]
  },
  {
   "cell_type": "markdown",
   "metadata": {},
   "source": [
    "### Bölüm B\n",
    "\n",
    "Her yaklaşımdan MAE'yi karşılaştırın. Sonuçlar hakkında sizi şaşırtan bir şey var mı? Bir yaklaşımın diğerinden daha iyi performans gösterdiğini neden düşünüyorsunuz?"
   ]
  },
  {
   "cell_type": "markdown",
   "metadata": {},
   "source": [
    "# Adım 4: Test tahminleri oluşturun\n",
    "\n",
    "Bu son adımda, eksik değerlerle başa çıkmak için seçtiğiniz herhangi bir yaklaşımı kullanacaksınız. Eğitim ve doğrulama özelliklerini önceden işledikten sonra, rastgele bir orman modelini eğitecek ve değerlendireceksiniz. Ardından, yarışmaya sunulabilecek tahminler oluşturmadan önce test verilerini önceden işleyeceksiniz!\n",
    "\n",
    "### Bölüm A\n",
    "\n",
    "Eğitim ve doğrulama verilerini önceden işlemek için bir sonraki kod hücresini kullanın. Önceden işlenmiş Veri Çerçevelerini `final_X_train` ve `final_X_valid` olarak ayarlayın. **Burada istediğiniz yaklaşımı kullanabilirsiniz!** Bu adımın doğru olarak işaretlenmesi için yalnızca şunları sağlamanız gerekir:\n",
    "- önceden işlenmiş Veri Çerçevelerinin aynı sayıda sütuna sahip olması,\n",
    "- önceden işlenmiş Veri Çerçevelerinin eksik değere sahip olmaması,\n",
    "- `final_X_train` ve `y_train`'in aynı sayıda satıra sahip olması ve\n",
    "- `final_X_valid` ve `y_valid`'in aynı sayıda satıra sahip olması."
   ]
  },
  {
   "cell_type": "code",
   "execution_count": 10,
   "metadata": {
    "execution": {
     "iopub.execute_input": "2023-04-25T12:16:10.358051Z",
     "iopub.status.busy": "2023-04-25T12:16:10.357185Z",
     "iopub.status.idle": "2023-04-25T12:16:10.397844Z",
     "shell.execute_reply": "2023-04-25T12:16:10.396375Z",
     "shell.execute_reply.started": "2023-04-25T12:16:10.357999Z"
    }
   },
   "outputs": [],
   "source": [
    "# Ön işlenmiş eğitim ve doğrulama özellikleri\n",
    "# Eksik değerleri median (ortanca) stratejisi ile doldurmak için SimpleImputer'ı oluştur\n",
    "final_imputer = SimpleImputer(strategy=\"median\") \n",
    "# Eğitim verisini dönüştür ve DataFrame olarak sakla\n",
    "final_X_train = pd.DataFrame(final_imputer.fit_transform(X_train))  \n",
    "# Doğrulama verisini dönüştür ve DataFrame olarak sakla\n",
    "final_X_valid = pd.DataFrame(final_imputer.transform(X_valid))  "
   ]
  },
  {
   "cell_type": "markdown",
   "metadata": {},
   "source": [
    "Rastgele bir orman modelini eğitmek ve değerlendirmek için bir sonraki kod hücresini çalıştırın. (*Yukarıdaki `score_dataset()` fonksiyonunu kullanmadığımızı unutmayın, çünkü yakında eğitilmiş modeli test tahminleri üretmek için kullanacağız!*)"
   ]
  },
  {
   "cell_type": "code",
   "execution_count": 11,
   "metadata": {
    "execution": {
     "iopub.execute_input": "2023-04-25T12:16:17.117186Z",
     "iopub.status.busy": "2023-04-25T12:16:17.116690Z",
     "iopub.status.idle": "2023-04-25T12:16:18.454374Z",
     "shell.execute_reply": "2023-04-25T12:16:18.452735Z",
     "shell.execute_reply.started": "2023-04-25T12:16:17.117148Z"
    }
   },
   "outputs": [
    {
     "name": "stdout",
     "output_type": "stream",
     "text": [
      "MAE (Sizin yaklaşımınız):\n",
      "17791.59899543379\n"
     ]
    }
   ],
   "source": [
    "# Modeli tanımla ve eğit\n",
    "model = RandomForestRegressor(n_estimators=100, random_state=0)  # Rastgele Orman Regresyon modelini oluştur\n",
    "model.fit(final_X_train, y_train)  # Modeli, ön işlenmiş eğitim verisi ile eğit\n",
    "\n",
    "# Doğrulama tahminlerini al ve MAE'yi hesapla\n",
    "preds_valid = model.predict(final_X_valid)  # Doğrulama verisi üzerinde tahmin yap\n",
    "print(\"MAE (Sizin yaklaşımınız):\")  # Ortalama Mutlak Hata (MAE) değerini ekrana yazdır\n",
    "print(mean_absolute_error(y_valid, preds_valid))  # MAE'yi hesapla ve ekrana yazdır"
   ]
  },
  {
   "cell_type": "markdown",
   "metadata": {},
   "source": [
    "### Bölüm B\n",
    "\n",
    "Test verilerinizi ön işlemek için bir sonraki kod hücresini kullanın. Eğitim ve doğrulama verilerini nasıl ön işlediğinizle uyuşan bir yöntem kullandığınızdan ve ön işlenmiş test özelliklerini `final_X_test` olarak ayarladığınızdan emin olun.\n",
    "\n",
    "Ardından, `preds_test` içinde test tahminleri oluşturmak için ön işlenmiş test özelliklerini ve eğitilmiş modeli kullanın.\n",
    "\n",
    "Bu adımın doğru olarak işaretlenmesi için yalnızca şunları sağlamanız gerekir:\n",
    "- ön işlenmiş test Veri Çerçevesinde eksik değer yoktur ve\n",
    "- `final_X_test` `X_test` ile aynı sayıda satıra sahiptir."
   ]
  },
  {
   "cell_type": "code",
   "execution_count": 12,
   "metadata": {
    "execution": {
     "iopub.execute_input": "2023-04-25T12:18:16.982213Z",
     "iopub.status.busy": "2023-04-25T12:18:16.981681Z",
     "iopub.status.idle": "2023-04-25T12:18:17.044839Z",
     "shell.execute_reply": "2023-04-25T12:18:17.043672Z",
     "shell.execute_reply.started": "2023-04-25T12:18:16.982172Z"
    }
   },
   "outputs": [],
   "source": [
    "# Aşağıdaki satırı doldurun: test verisini ön işleme tabi tut\n",
    "# Test verisini dönüştür ve DataFrame olarak sakla\n",
    "final_X_test = pd.DataFrame(final_imputer.transform(X_test))  \n",
    "\n",
    "# Aşağıdaki satırı doldurun: test tahminlerini al\n",
    "# Test verisi üzerinde tahmin yap\n",
    "preds_test = model.predict(final_X_test)  "
   ]
  },
  {
   "cell_type": "markdown",
   "metadata": {},
   "source": [
    "kaydetmek için bir sonraki kod hücresini değişiklik yapmadan çalıştırın."
   ]
  },
  {
   "cell_type": "code",
   "execution_count": 13,
   "metadata": {
    "execution": {
     "iopub.execute_input": "2023-04-25T12:18:26.507189Z",
     "iopub.status.busy": "2023-04-25T12:18:26.506716Z",
     "iopub.status.idle": "2023-04-25T12:18:26.523276Z",
     "shell.execute_reply": "2023-04-25T12:18:26.521421Z",
     "shell.execute_reply.started": "2023-04-25T12:18:26.507152Z"
    }
   },
   "outputs": [],
   "source": [
    "# Test tahminlerini dosyaya kaydet\n",
    "output = pd.DataFrame({'Id': X_test.index,  # Tahmin edilen değerlerle birlikte ID'leri içeren bir DataFrame oluştur\n",
    "                       'SalePrice': preds_test})\n",
    "output.to_csv('submission.csv', index=False)  # DataFrame'i 'submission.csv' dosyasına kaydet, satır numaralarını dahil etme"
   ]
  },
  {
   "cell_type": "code",
   "execution_count": null,
   "metadata": {},
   "outputs": [],
   "source": []
  }
 ],
 "metadata": {
  "kaggle": {
   "accelerator": "none",
   "dataSources": [
    {
     "databundleVersionId": 111096,
     "sourceId": 10211,
     "sourceType": "competition"
    }
   ],
   "isGpuEnabled": false,
   "isInternetEnabled": false,
   "language": "python",
   "sourceType": "notebook"
  },
  "kernelspec": {
   "display_name": "Python 3",
   "language": "python",
   "name": "python3"
  },
  "language_info": {
   "codemirror_mode": {
    "name": "ipython",
    "version": 3
   },
   "file_extension": ".py",
   "mimetype": "text/x-python",
   "name": "python",
   "nbconvert_exporter": "python",
   "pygments_lexer": "ipython3",
   "version": "3.12.1"
  }
 },
 "nbformat": 4,
 "nbformat_minor": 4
}
